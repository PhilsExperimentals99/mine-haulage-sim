{
 "cells": [
  {
   "cell_type": "markdown",
   "id": "94572d1c",
   "metadata": {},
   "source": [
    "###### R F Subtil, D M Silva and J C Alves, A Practical Approach to Truck Dispatch for Open Pit Mines, https://www.researchgate.net/publication/235613996"
   ]
  },
  {
   "cell_type": "code",
   "execution_count": 1,
   "id": "ded260c6",
   "metadata": {},
   "outputs": [],
   "source": [
    "import sympy\n",
    "from sympy import symbols, latex \n",
    "sympy.init_printing()\n",
    "from IPython.display import display, Math"
   ]
  },
  {
   "cell_type": "code",
   "execution_count": null,
   "id": "343c57f9",
   "metadata": {},
   "outputs": [
    {
     "data": {
      "image/png": "[encoded data removed]",
      "text/latex": [
       "$\\displaystyle \\left( C_{t} \\left(T_{l} + T_{lm}\\right), \\  C_{dp}, \\  D_{c}, \\  T_{dm}, \\  T_{d}\\right)$"
      ],
      "text/plain": [
       "(Cₜ⋅(Tₗ + Tₗₘ), C_dp, D_c, T_dm, T_d)"
      ]
     },
     "execution_count": 9,
     "metadata": {},
     "output_type": "execute_result"
    }
   ],
   "source": [
    "# Allocation planning of optimal fleet size\n",
    "# Objective is to maximize mine productivity\n",
    "# Detemine the optimal material flows between loading and dumpng points s.t. \n",
    "\n",
    "# Variables at loading point\n",
    "# Rs - loading rate of shovels(tons/hr)\n",
    "# Tl - Loading time  (minutes)\n",
    "# Tlm - Loading manoeuvre time (minutes)\n",
    "# Ct - Truck capacity (tons)\n",
    "# Lc - truck loaded per hour\n",
    "Rs, Lc, Tlm, Tl, Ct = symbols('R_s, L_c T_lm T_l C_t')\n",
    "Lc = (Tlm + Tl)\n",
    "Rs =Lc*Ct\n",
    "\n",
    "# Variables at dumping point\n",
    "# Cdp - dump point capacity\n",
    "# Td - dumping time\n",
    "# Tdm - dumpin manoueuvre time\n",
    "# Dc - dumps per hour\n",
    "s \n",
    "Cdp, Sp, Tdm, Td = symbols('C_dp, D_c T_dm T_d')\n",
    "#\n",
    "\n",
    "Rs, Cdp, Sp, Tdm, Td"
   ]
  },
  {
   "cell_type": "code",
   "execution_count": null,
   "id": "e82cc320",
   "metadata": {},
   "outputs": [],
   "source": []
  },
  {
   "cell_type": "code",
   "execution_count": null,
   "id": "4231d16e",
   "metadata": {},
   "outputs": [],
   "source": []
  }
 ],
 "metadata": {
  "kernelspec": {
   "display_name": "dispatch_sim",
   "language": "python",
   "name": "python3"
  },
  "language_info": {
   "codemirror_mode": {
    "name": "ipython",
    "version": 3
   },
   "file_extension": ".py",
   "mimetype": "text/x-python",
   "name": "python",
   "nbconvert_exporter": "python",
   "pygments_lexer": "ipython3",
   "version": "3.12.9"
  }
 },
 "nbformat": 4,
 "nbformat_minor": 5
}
