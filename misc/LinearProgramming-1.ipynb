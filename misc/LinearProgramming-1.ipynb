{
 "cells": [
  {
   "cell_type": "code",
   "execution_count": null,
   "id": "2db170d5",
   "metadata": {},
   "outputs": [],
   "source": [
    "import pulp\n",
    "from pulp import LpMaximize, LpProblem, LpVariable, LpMinimize, PULP_CBC_CMD"
   ]
  },
  {
   "cell_type": "raw",
   "id": "175c9796",
   "metadata": {},
   "source": [
    "An iron foundry has a firm order to produce 1000 pounds of castings containing at least 0.45 percent manganese and between 3.25 percent and 5.50 percent silicon. \n",
    "As these particular castings are a special order, there are no suitable castings on hand. \n",
    "The castings sell for $0.45 per pound. \n",
    "The foundry has three types of pig iron available in essentially unlimited amounts, with the following properties: \n",
    "pig iron A(4% silicon, 0.45% manganese), \n",
    "pig iron B(1% silicon, 0.5% manganese, \n",
    "pig iron C(0.6% silicon, 0.4% manganese). \n",
    "Pure manganese can also be directly added to the melt. \n",
    "Pig A cost $21/tousand punds, \n",
    "Pig B is $25/1000 pounds, \n",
    "Pig C is $15/1000 pounds. Manganese is $8/pound. \n",
    "It cost 0.5 cents to melt down a pound of pig iron."
   ]
  },
  {
   "cell_type": "code",
   "execution_count": 43,
   "id": "e43ee7d9",
   "metadata": {},
   "outputs": [
    {
     "name": "stdout",
     "output_type": "stream",
     "text": [
      "Optimal Profit: $425.24\n",
      "Optimal Pig A: 0.779 thousand pounds\n",
      "Optimal Pig B: 0.000 thousand pounds\n",
      "Optimal Pig C: 0.221 thousand pounds\n",
      "Optimal Pure Manganese: 0.011 pounds\n",
      "<pulp.apis.glpk_api.GLPK_CMD object at 0x000002655853EE70>\n"
     ]
    }
   ],
   "source": [
    "# Define the LP problem\n",
    "model = LpProblem(\"Maximize_Foundry_Profit\", LpMaximize)\n",
    "\n",
    "# Define decision variables (in 1000 pounds)\n",
    "x1 = LpVariable(\"Pig_A\", lowBound=0)  # Pig iron A\n",
    "x2 = LpVariable(\"Pig_B\", lowBound=0)  # Pig iron B\n",
    "x3 = LpVariable(\"Pig_C\", lowBound=0)  # Pig iron C\n",
    "x4 = LpVariable(\"Pure_Manganese\", lowBound=0)  # Pure manganese (pounds)\n",
    "\n",
    "# Objective Function (Maximize Profit)\n",
    "model += 450 - (26*x1 + 30*x2 + 20*x3 + 8*x4), \"Total_Profit\"\n",
    "\n",
    "# Constraints\n",
    "model += 1000 == 1000*x1 + 1000*x2 + 1000*x3 + x4, \"Total_Weight\"\n",
    "model += 4*x1 + 1*x2 + 0.6*x3 >= 3.25, \"Min_Silicon\"\n",
    "model += 4*x1 + 1*x2 + 0.6*x3 <= 5.50, \"Max_Silicon\"\n",
    "model += 0.45*x1 + 0.5*x2 + 0.4*x3 + x4 >= 0.45, \"Min_Manganese\"\n",
    "\n",
    "# Solve the LP problem\n",
    "model.solve(pulp.GLPK_CMD())\n",
    "\n",
    "# Display the results\n",
    "print(f\"Optimal Profit: ${model.objective.value():.2f}\")\n",
    "print(f\"Optimal Pig A: {x1.varValue:.3f} thousand pounds\")\n",
    "print(f\"Optimal Pig B: {x2.varValue:.3f} thousand pounds\")\n",
    "print(f\"Optimal Pig C: {x3.varValue:.3f} thousand pounds\")\n",
    "print(f\"Optimal Pure Manganese: {x4.varValue:.3f} pounds\")\n",
    "print(model.solver)\n"
   ]
  },
  {
   "cell_type": "code",
   "execution_count": 19,
   "id": "9f6f78f7",
   "metadata": {},
   "outputs": [
    {
     "data": {
      "text/plain": [
       "11.142900000000001"
      ]
     },
     "execution_count": 19,
     "metadata": {},
     "output_type": "execute_result"
    }
   ],
   "source": [
    "(26*0.779 + 20*0.221 + 8*0.011) * 0.45"
   ]
  },
  {
   "cell_type": "code",
   "execution_count": 44,
   "id": "1a9d5f4a",
   "metadata": {},
   "outputs": [
    {
     "name": "stdout",
     "output_type": "stream",
     "text": [
      "Minimal Cost: $24.765\n",
      "Maximum Profit: $425.235\n",
      "Optimal Pig A: 0.779 thousand pounds\n",
      "Optimal Pig B: 0.000 thousand pounds\n",
      "Optimal Pig C: 0.221 thousand pounds\n",
      "Optimal Pure Manganese: 0.011 pounds\n"
     ]
    }
   ],
   "source": [
    "# Alternatively, we can minimize the cost as the income is constant\n",
    "# Define the LP problem\n",
    "model = LpProblem(\"Maximize_Foundry_Profit\", LpMinimize)\n",
    "\n",
    "# Define decision variables (in 1000 pounds)\n",
    "x1 = LpVariable(\"Pig_A\", lowBound=0)  # Pig iron A\n",
    "x2 = LpVariable(\"Pig_B\", lowBound=0)  # Pig iron B\n",
    "x3 = LpVariable(\"Pig_C\", lowBound=0)  # Pig iron C\n",
    "x4 = LpVariable(\"Pure_Manganese\", lowBound=0)  # Pure manganese (pounds)\n",
    "\n",
    "# Objective Function (Maximize Profit)\n",
    "model += 26*x1 + 30*x2 + 20*x3 + 8*x4, \"Total_Cost\"\n",
    "\n",
    "# Constraints\n",
    "model += 1000 == 1000*x1 + 1000*x2 + 1000*x3 + x4, \"Total_Weight\"\n",
    "model += 4*x1 + 1*x2 + 0.6*x3 >= 3.25, \"Min_Silicon\"\n",
    "model += 4*x1 + 1*x2 + 0.6*x3 <= 5.50, \"Max_Silicon\"\n",
    "model += 0.45*x1 + 0.5*x2 + 0.4*x3 + x4 >= 0.45, \"Min_Manganese\"\n",
    "\n",
    "# Solve the LP problem\n",
    "model.solve(pulp.GLPK_CMD())\n",
    "\n",
    "# Display the results\n",
    "print(f\"Minimal Cost: ${(model.objective.value()):.3f}\")\n",
    "print(f\"Maximum Profit: ${(450 -  model.objective.value()):.3f}\")\n",
    "print(f\"Optimal Pig A: {x1.varValue:.3f} thousand pounds\")\n",
    "print(f\"Optimal Pig B: {x2.varValue:.3f} thousand pounds\")\n",
    "print(f\"Optimal Pig C: {x3.varValue:.3f} thousand pounds\")\n",
    "print(f\"Optimal Pure Manganese: {x4.varValue:.3f} pounds\")\n"
   ]
  },
  {
   "cell_type": "code",
   "execution_count": 28,
   "id": "7dbc977b",
   "metadata": {},
   "outputs": [
    {
     "data": {
      "text/plain": [
       "999.999993728"
      ]
     },
     "execution_count": 28,
     "metadata": {},
     "output_type": "execute_result"
    }
   ],
   "source": [
    "1000*x1.varValue + 1000*x2.varValue + 1000*x3.varValue + x4.varValue"
   ]
  },
  {
   "cell_type": "raw",
   "id": "d834cc79",
   "metadata": {
    "vscode": {
     "languageId": "raw"
    }
   },
   "source": [
    "A portfolio manager in charge of a bank portfolio has $10 million to invest. The\n",
    "securities available for purchase, as well as their respective quality ratings, maturities, and yields, are:\n",
    "Bond Name |  Bond Type |  Moody's Quality scales | Bank's | Years to maturity | Yield to maturity | After-tax yields\n",
    "    A        Municipal          Aa                   2          9                   4.3%                4.3%\n",
    "    B        Agency             Aa                   2         15                   5.4                 2.7 \n",
    "    C        Government         Aaa                  1          4                   5.0                 2.5\n",
    "    D        Government         Aaa                  1          3                   4.4                 2.2\n",
    "    E        Municipal          Ba                   5          2                   4.5                 4.5\n",
    "\n",
    "\n",
    "The bank places the following policy limitations on the portfolio manager’s actions:\n",
    "1. Government and agency bonds must total at least $4 million.\n",
    "2. The average quality of the portfolio cannot exceed 1.4 on the bank’s quality scale. (Note that a low\n",
    "    number on this scale means a high-quality bond.)\n",
    "3. The average years to maturity of the portfolio must not exceed 5 years.\n",
    "\n",
    "Assuming that the objective of the portfolio manager is to maximize after-tax earnings and that the tax rate is\n",
    "50 percent, what bonds should he purchase? If it became possible to borrow up to $1 million at 5.5 percent before taxes, how should his selection be changed?\n",
    "Leaving the question of borrowed funds aside for the moment, the decision variables for this problem are\n",
    "simply the dollar amount of each security to be purchased:\n",
    "\n",
    "    xA =Amount to be invested in bond A; in millions of dollars.\n",
    "    xB =Amount to be invested in bond B; in millions of dollars.\n",
    "    xC =Amount to be invested in bond C; in millions of dollars.\n",
    "    xD =Amount to be invested in bond D; in millions of dollars.\n",
    "    xE =Amount to be invested in bond E; in millions of dollars.\n",
    "\n",
    "We must now determine the form of the objective function. Assuming that all securities are purchased at par\n",
    "(face value) and held to maturity and that the income on municipal bonds is tax-exempt, the after-tax earnings\n",
    "are given by:\n",
    "\n",
    "    z = 0.043xA + 0.027xB + 0.025xC + 0.022xD + 0.045xE.       \n",
    "\n",
    "Now let us consider each of the restrictions of the problem. The portfolio manager has only a total of ten\n",
    "million dollars to invest, and therefore:\n",
    "\n",
    "    xA + xB + xC + xD + xE <= 10.     \n",
    "\n",
    "Further, of this amount at least $4 million must be invested in government and agency bonds. Hence,\n",
    "\n",
    "    xB + xC + xD >= 4.    \n",
    "\n",
    "The average quality of the portfolio, which is given by the ratio of the total quality to the total value of the\n",
    "portfolio, must not exceed 1.4:\n",
    "\n",
    "    (2xA + 2xB + xC + xD + 5xE) /(xA + xB + xC + xD + xE)   <= 1.4.    \n",
    "\n",
    "Note that the inequality is less-than-or-equal-to, since a low number on the bank’s quality scale means a\n",
    "high-quality bond. By clearing the denominator and re-arranging terms, we find that this inequality is clearly\n",
    "equivalent to the linear constraint:\n",
    "\n",
    "    0.6xA + 0.6xB − 0.4xC − 0.4xD + 3.6xE <=  0.\n",
    "\n",
    "The constraint on the average maturity of the portfolio is a similar ratio. The average maturity must not\n",
    "exceed five years:\n",
    "\n",
    "    (9xA + 15xB + 4xC + 3xD + 2xE) /(xA + xB + xC + xD + xE) <= 5,\n",
    "\n",
    "which is equivalent to the linear constraint:\n",
    "    \n",
    "    4xA + 10xB − xC − 2xD − 3xE <= 0.\n",
    "\n",
    "Note that the two ratio constraints are, in fact, nonlinear constraints, which would require sophisticated\n",
    "computational procedures if included in this form. However, simply multiplying both sides of each ratio\n",
    "constraint by its denominator (which must be nonnegative since it is the sum of nonnegative variables)\n",
    "transforms this nonlinear constraint into a simple linear constraint.    \n",
    "\n",
    "    "
   ]
  },
  {
   "cell_type": "code",
   "execution_count": null,
   "id": "51967c2f",
   "metadata": {},
   "outputs": [
    {
     "name": "stdout",
     "output_type": "stream",
     "text": [
      "Optimal Profit: $0.298\n",
      "Optimal Bond A: 2.182 millions of $\n",
      "Optimal Bond B: 0.000 millions of $\n",
      "Optimal Bond C: 7.364 millions of $\n",
      "Optimal Bond D: 0.000 millions of $\n",
      "Optimal Bond E: 0.455 millions of $\n"
     ]
    }
   ],
   "source": [
    "model = LpProblem(\"Maximize_After_Tax_Earnings\", LpMaximize)\n",
    "\n",
    "# Define decision variables (in 1000 pounds)\n",
    "xA = LpVariable(\"Bond_A\", lowBound=0) # millions of dollars\n",
    "xB = LpVariable(\"Bond_B\", lowBound=0) \n",
    "xC = LpVariable(\"Bond_C\", lowBound=0) \n",
    "xD = LpVariable(\"Bond_D\", lowBound=0) \n",
    "xE = LpVariable(\"Bond_E\", lowBound=0) \n",
    "\n",
    "# Objective Function (Maximize After Tax Earnings)\n",
    "model += 0.043*xA + 0.027*xB + 0.025*xC + 0.022*xD + 0.045*xE, \"Earnings\"\n",
    "# Constraints\n",
    "model += xA + xB + xC + xD + xE <= 10, \"Cash_To_Spend\" # in millions of\n",
    "model += xB + xC + xD >= 4, \"Govt_and_Agency_Bonds\"\n",
    "model += 0.6*xA + 0.6*xB - 0.4*xC - 0.4*xD + 3.6*xE <= 0, \"average_portfolio _quality\"\n",
    "model += 4*xA + 10*xB - xC - 2*xD - 3*xE <= 0, \"average_portfolio_years_to_maturity\"\n",
    "\n",
    "# Solve the LP problem\n",
    "#model.solve()\n",
    "model.solve(PULP_CBC_CMD(msg=True, options=['presolve', 'strong', 'numerical']))\n",
    "\n",
    "# Display the results\n",
    "print(f\"Optimal Profit: ${model.objective.value():.3f}\")\n",
    "print(f\"Optimal Bond A: {xA.varValue:.3f} millions of $\")\n",
    "print(f\"Optimal Bond B: {xB.varValue:.3f} millions of $\")\n",
    "print(f\"Optimal Bond C: {xC.varValue:.3f} millions of $\")\n",
    "print(f\"Optimal Bond D: {xD.varValue:.3f} millions of $\")\n",
    "print(f\"Optimal Bond E: {xE.varValue:.3f} millions of $\")\n"
   ]
  },
  {
   "cell_type": "code",
   "execution_count": null,
   "id": "fcf42474",
   "metadata": {},
   "outputs": [],
   "source": [
    "# Add ability to borrow up to 1 million dollars at 5.5% before tax or 2.75% after tax at 50%\n",
    "# i.e. y<=1 millions of dollars"
   ]
  },
  {
   "cell_type": "code",
   "execution_count": 64,
   "id": "bf986ee7",
   "metadata": {},
   "outputs": [
    {
     "name": "stdout",
     "output_type": "stream",
     "text": [
      "Optimal Profit: $0.301\n",
      "Optimal Bond A: 2.400 millions of $\n",
      "Optimal Bond B: 0.000 millions of $\n",
      "Optimal Bond C: 8.100 millions of $\n",
      "Optimal Bond D: 0.000 millions of $\n",
      "Optimal Bond E: 0.500 millions of $\n",
      "Optimal Loan y: 1.000 millions of $\n"
     ]
    }
   ],
   "source": [
    "model = LpProblem(\"Maximize_After_Tax_Earnings\", LpMaximize)\n",
    "\n",
    "# Define decision variables (in 1000 pounds)\n",
    "xA = LpVariable(\"Bond_A\", lowBound=0) # millions of dollars\n",
    "xB = LpVariable(\"Bond_B\", lowBound=0) \n",
    "xC = LpVariable(\"Bond_C\", lowBound=0) \n",
    "xD = LpVariable(\"Bond_D\", lowBound=0) \n",
    "xE = LpVariable(\"Bond_E\", lowBound=0) \n",
    "y  = LpVariable(\"Loan\", lowBound=0, upBound=1)\n",
    "\n",
    "# Objective Function (Maximize After Tax Earnings)\n",
    "model += 0.043*xA + 0.027*xB + 0.025*xC + 0.022*xD + 0.045*xE - 0.0275*y, \"Earnings\"\n",
    "# Constraints\n",
    "#model += y <= 1,\"Loan_Limit\"\n",
    "model += xA + xB + xC + xD + xE <= (10 + y), \"Cash_To_Spend\" # in millions of\n",
    "model += xB + xC + xD >= 4, \"Govt_and_Agency_Bonds\"\n",
    "model += 0.6*xA + 0.6*xB - 0.4*xC - 0.4*xD + 3.6*xE <= 0, \"average_portfolio _quality\"\n",
    "model += 4*xA + 10*xB - xC - 2*xD - 3*xE <= 0, \"average_portfolio_years_to_maturity\"\n",
    "\n",
    "# Solve the LP problem\n",
    "model.solve(pulp.GLPK_CMD())\n",
    "\n",
    "# Display the results\n",
    "print(f\"Optimal Profit: ${model.objective.value():.3f}\")\n",
    "print(f\"Optimal Bond A: {xA.varValue:.3f} millions of $\")\n",
    "print(f\"Optimal Bond B: {xB.varValue:.3f} millions of $\")\n",
    "print(f\"Optimal Bond C: {xC.varValue:.3f} millions of $\")\n",
    "print(f\"Optimal Bond D: {xD.varValue:.3f} millions of $\")\n",
    "print(f\"Optimal Bond E: {xE.varValue:.3f} millions of $\")\n",
    "print(f\"Optimal Loan y: {y.varValue:.3f} millions of $\")\n"
   ]
  },
  {
   "cell_type": "code",
   "execution_count": 66,
   "id": "a9b15196",
   "metadata": {},
   "outputs": [
    {
     "data": {
      "text/plain": [
       "(10.0, 10.01)"
      ]
     },
     "execution_count": 66,
     "metadata": {},
     "output_type": "execute_result"
    }
   ],
   "source": [
    "2.4+8.1+0.5-1, 3.7 + 7.13 + 0.18-1"
   ]
  },
  {
   "cell_type": "code",
   "execution_count": null,
   "id": "1e201206",
   "metadata": {},
   "outputs": [],
   "source": []
  }
 ],
 "metadata": {
  "kernelspec": {
   "display_name": "dispatch_sim",
   "language": "python",
   "name": "python3"
  },
  "language_info": {
   "codemirror_mode": {
    "name": "ipython",
    "version": 3
   },
   "file_extension": ".py",
   "mimetype": "text/x-python",
   "name": "python",
   "nbconvert_exporter": "python",
   "pygments_lexer": "ipython3",
   "version": "3.12.9"
  }
 },
 "nbformat": 4,
 "nbformat_minor": 5
}
