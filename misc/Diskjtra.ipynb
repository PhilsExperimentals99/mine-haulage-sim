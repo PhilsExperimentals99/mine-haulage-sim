{
 "cells": [
  {
   "cell_type": "code",
   "execution_count": 1,
   "id": "c613bb2f",
   "metadata": {},
   "outputs": [],
   "source": [
    "import heapq"
   ]
  },
  {
   "cell_type": "code",
   "execution_count": 3,
   "id": "8dc4d57b",
   "metadata": {},
   "outputs": [
    {
     "name": "stdout",
     "output_type": "stream",
     "text": [
      "{'A': 0, 'B': 1, 'C': 3, 'D': 4}\n"
     ]
    }
   ],
   "source": [
    "def dijkstra(graph, start):\n",
    "    # Priority queue to store (distance, node) pairs\n",
    "    priority_queue = []\n",
    "    heapq.heappush(priority_queue, (0, start))\n",
    "    \n",
    "    # Dictionary to store the shortest distances\n",
    "    shortest_distances = {node: float('inf') for node in graph}\n",
    "    shortest_distances[start] = 0\n",
    "    \n",
    "    while priority_queue:\n",
    "        current_distance, current_node = heapq.heappop(priority_queue)\n",
    "\n",
    "        if current_distance > shortest_distances[current_node]:\n",
    "            continue\n",
    "\n",
    "        for neighbor, weight in graph[current_node].items():\n",
    "            distance = current_distance + weight\n",
    "\n",
    "            if distance < shortest_distances[neighbor]:\n",
    "                shortest_distances[neighbor] = distance\n",
    "                heapq.heappush(priority_queue, (distance, neighbor))\n",
    "\n",
    "    return shortest_distances\n",
    "\n",
    "# Example graph representation\n",
    "graph = {\n",
    "    'A': {'B': 1, 'C': 4},\n",
    "    'B': {'A': 1, 'C': 2, 'D': 5},\n",
    "    'C': {'A': 4, 'B': 2, 'D': 1},\n",
    "    'D': {'B': 5, 'C': 1}\n",
    "}\n",
    "\n",
    "# Run Dijkstra's algorithm from node 'A'\n",
    "shortest_paths = dijkstra(graph, 'A')\n",
    "print(shortest_paths)\n"
   ]
  },
  {
   "cell_type": "code",
   "execution_count": 4,
   "id": "221a3401",
   "metadata": {},
   "outputs": [
    {
     "name": "stdout",
     "output_type": "stream",
     "text": [
      "Shortest path: [(0, 0), (0, 1), (1, 1)]\n"
     ]
    }
   ],
   "source": [
    "import heapq\n",
    "\n",
    "def heuristic(node, goal):\n",
    "    \"\"\"Example heuristic function using Manhattan distance\"\"\"\n",
    "    return abs(node[0] - goal[0]) + abs(node[1] - goal[1])\n",
    "\n",
    "def a_star(graph, start, goal):\n",
    "    priority_queue = []\n",
    "    heapq.heappush(priority_queue, (0, start))  # (cost, node)\n",
    "    \n",
    "    came_from = {}\n",
    "    cost_so_far = {node: float('inf') for node in graph}\n",
    "    cost_so_far[start] = 0\n",
    "    \n",
    "    while priority_queue:\n",
    "        _, current = heapq.heappop(priority_queue)\n",
    "        \n",
    "        if current == goal:\n",
    "            break\n",
    "        \n",
    "        for neighbor, weight in graph[current].items():\n",
    "            new_cost = cost_so_far[current] + weight\n",
    "            if new_cost < cost_so_far[neighbor]:\n",
    "                cost_so_far[neighbor] = new_cost\n",
    "                priority = new_cost + heuristic(neighbor, goal)\n",
    "                heapq.heappush(priority_queue, (priority, neighbor))\n",
    "                came_from[neighbor] = current\n",
    "                \n",
    "    return reconstruct_path(came_from, start, goal)\n",
    "\n",
    "def reconstruct_path(came_from, start, goal):\n",
    "    path = []\n",
    "    current = goal\n",
    "    while current != start:\n",
    "        path.append(current)\n",
    "        current = came_from.get(current, start)\n",
    "    path.append(start)\n",
    "    path.reverse()\n",
    "    return path\n",
    "\n",
    "# Example graph representation\n",
    "graph = {\n",
    "    (0, 0): {(1, 0): 1, (0, 1): 1},\n",
    "    (1, 0): {(0, 0): 1, (1, 1): 1},\n",
    "    (0, 1): {(0, 0): 1, (1, 1): 1},\n",
    "    (1, 1): {(1, 0): 1, (0, 1): 1}\n",
    "}\n",
    "\n",
    "# Run A* algorithm\n",
    "start_node = (0, 0)\n",
    "goal_node = (1, 1)\n",
    "path = a_star(graph, start_node, goal_node)\n",
    "print(\"Shortest path:\", path)\n"
   ]
  },
  {
   "cell_type": "code",
   "execution_count": null,
   "id": "7234754d",
   "metadata": {},
   "outputs": [],
   "source": [
    "def bellman_ford(graph, start):\n",
    "    # Initialize distances from start to all nodes as infinity\n",
    "    distances = {node: float('inf') for node in graph}\n",
    "    distances[start] = 0\n",
    "    \n",
    "    # Relax all edges |V| - 1 times\n",
    "    for _ in range(len(graph) - 1):\n",
    "        for node in graph:\n",
    "            for neighbor, weight in graph[node].items():\n",
    "                if distances[node] + weight < distances[neighbor]:\n",
    "                    distances[neighbor] = distances[node] + weight\n",
    "                    \n",
    "    return distances\n",
    "\n",
    "# Example graph representation\n",
    "graph = {\n",
    "    'A': {'B': 1, 'C': 4},\n",
    "    'B': {'C': 2, 'D': 5},\n",
    "    'C': {'D': 1},\n",
    "    'D': {}\n",
    "}\n",
    "\n",
    "# Run Bellman-Ford from 'A'\n",
    "shortest_paths = bellman_ford(graph, 'A')\n",
    "print(\"Shortest distances:\", shortest_paths)\n"
   ]
  },
  {
   "cell_type": "code",
   "execution_count": 5,
   "id": "41d46a60",
   "metadata": {},
   "outputs": [
    {
     "name": "stdout",
     "output_type": "stream",
     "text": [
      "Shortest path matrix:\n",
      "A {'A': 0, 'B': 3, 'C': 4, 'D': 6}\n",
      "B {'A': 3, 'B': 0, 'C': 1, 'D': 3}\n",
      "C {'A': 4, 'B': 1, 'C': 0, 'D': 2}\n",
      "D {'A': 6, 'B': 3, 'C': 2, 'D': 0}\n"
     ]
    }
   ],
   "source": [
    "def floyd_warshall(graph):\n",
    "    # Initialize distance matrix\n",
    "    nodes = list(graph.keys())\n",
    "    num_nodes = len(nodes)\n",
    "    dist = {node: {neighbor: float('inf') for neighbor in nodes} for node in nodes}\n",
    "    \n",
    "    # Set initial distances based on graph edges\n",
    "    for node in graph:\n",
    "        dist[node][node] = 0  # Distance to itself is always 0\n",
    "        for neighbor, weight in graph[node].items():\n",
    "            dist[node][neighbor] = weight\n",
    "    \n",
    "    # Floyd-Warshall algorithm\n",
    "    for k in nodes:  # Intermediate node\n",
    "        for i in nodes:  # Start node\n",
    "            for j in nodes:  # End node\n",
    "                dist[i][j] = min(dist[i][j], dist[i][k] + dist[k][j])\n",
    "    \n",
    "    return dist\n",
    "\n",
    "# Example graph representation\n",
    "graph = {\n",
    "    'A': {'B': 3, 'C': 7},\n",
    "    'B': {'A': 3, 'C': 1, 'D': 5},\n",
    "    'C': {'A': 7, 'B': 1, 'D': 2},\n",
    "    'D': {'B': 5, 'C': 2}\n",
    "}\n",
    "\n",
    "# Run Floyd-Warshall\n",
    "shortest_paths = floyd_warshall(graph)\n",
    "print(\"Shortest path matrix:\")\n",
    "for row in shortest_paths:\n",
    "    print(row, shortest_paths[row])\n"
   ]
  },
  {
   "cell_type": "code",
   "execution_count": null,
   "id": "9f2e2e3d",
   "metadata": {},
   "outputs": [],
   "source": []
  }
 ],
 "metadata": {
  "kernelspec": {
   "display_name": "dispatch_sim",
   "language": "python",
   "name": "python3"
  },
  "language_info": {
   "codemirror_mode": {
    "name": "ipython",
    "version": 3
   },
   "file_extension": ".py",
   "mimetype": "text/x-python",
   "name": "python",
   "nbconvert_exporter": "python",
   "pygments_lexer": "ipython3",
   "version": "3.12.9"
  }
 },
 "nbformat": 4,
 "nbformat_minor": 5
}
