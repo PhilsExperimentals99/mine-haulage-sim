{
 "cells": [
  {
   "cell_type": "markdown",
   "id": "b7f2f193",
   "metadata": {},
   "source": [
    "$$\\sum_{i=1}^{n} i = \\frac{n(n+1)}{2}$$"
   ]
  },
  {
   "cell_type": "markdown",
   "id": "690428e6",
   "metadata": {},
   "source": [
    "<style>\n",
    "    .MathJax_Display, mjx-container {\n",
    "        text-align: left !important;\n",
    "    }\n",
    "</style>\n",
    "$$\n",
    "\\begin{array}{l l}\n",
    "\\frac{dx}{dt} = \\sigma (y - x)  & \\quad \\text{- Rate of change of } x \\text{ (horizontal position)} \\\\\n",
    "\\frac{dy}{dt} = x (\\rho - z) - y  & \\quad \\text{- Rate of change of } y \\text{ (vertical position)} \\\\\n",
    "\\frac{dz}{dt} = xy - \\beta z  & \\quad \\text{- Rate of change of } z \\text{ (altitude)} \\\\\n",
    "\\sigma = 10  & \\quad \\text{- Prandtl number (fluid flow parameter)} \\\\\n",
    "\\rho = 28  & \\quad \\text{- Rayleigh number (temperature difference)} \\\\\n",
    "\\beta = \\frac{8}{3}  & \\quad \\text{- System parameter affecting dissipation}\n",
    "\\end{array}\n",
    "$$\n"
   ]
  },
  {
   "cell_type": "markdown",
   "id": "0542be59",
   "metadata": {},
   "source": [
    "$$\n",
    "\\begin{aligned}\n",
    "&\\frac{dx}{dt} = \\sigma (y - x) \\quad &&\\text{- Rate of change of } x \\text{ (horizontal position)} \\\\\n",
    "&\\frac{dy}{dt} = x (\\rho - z) - y \\quad &&\\text{- Rate of change of } y \\text{ (vertical position)} \\\\\n",
    "&\\frac{dz}{dt} = xy - \\beta z \\quad &&\\text{- Rate of change of } z \\text{ (altitude)} \\\\\n",
    "&\\sigma = 10 \\quad &&\\text{- Prandtl number (fluid flow parameter)} \\\\\n",
    "&\\rho = 28 \\quad &&\\text{- Rayleigh number (temperature difference)} \\\\\n",
    "&\\beta = \\frac{8}{3} \\quad &&\\text{- System parameter affecting dissipation}\n",
    "\\end{aligned}\n",
    "$$"
   ]
  },
  {
   "cell_type": "markdown",
   "id": "bb9f9907",
   "metadata": {},
   "source": []
  }
 ],
 "metadata": {
  "language_info": {
   "name": "python"
  }
 },
 "nbformat": 4,
 "nbformat_minor": 5
}
